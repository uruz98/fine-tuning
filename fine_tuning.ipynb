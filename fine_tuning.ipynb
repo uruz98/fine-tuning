{
  "nbformat": 4,
  "nbformat_minor": 0,
  "metadata": {
    "colab": {
      "provenance": [],
      "authorship_tag": "ABX9TyMDGmHf5+ptyRhfTiBsHJ/I",
      "include_colab_link": true
    },
    "kernelspec": {
      "name": "python3",
      "display_name": "Python 3"
    },
    "language_info": {
      "name": "python"
    }
  },
  "cells": [
    {
      "cell_type": "markdown",
      "metadata": {
        "id": "view-in-github",
        "colab_type": "text"
      },
      "source": [
        "<a href=\"https://colab.research.google.com/github/uruz98/fine-tuning/blob/main/fine_tuning.ipynb\" target=\"_parent\"><img src=\"https://colab.research.google.com/assets/colab-badge.svg\" alt=\"Open In Colab\"/></a>"
      ]
    },
    {
      "cell_type": "code",
      "execution_count": 2,
      "metadata": {
        "colab": {
          "base_uri": "https://localhost:8080/"
        },
        "id": "4j2Yje-7X072",
        "outputId": "762016c7-ba11-4003-fbb4-7a5c713a8371"
      },
      "outputs": [
        {
          "output_type": "stream",
          "name": "stdout",
          "text": [
            "Collecting gradientai\n",
            "  Downloading gradientai-1.4.0-py3-none-any.whl (171 kB)\n",
            "\u001b[?25l     \u001b[90m━━━━━━━━━━━━━━━━━━━━━━━━━━━━━━━━━━━━━━━━\u001b[0m \u001b[32m0.0/171.1 kB\u001b[0m \u001b[31m?\u001b[0m eta \u001b[36m-:--:--\u001b[0m\r\u001b[2K     \u001b[91m━━━━━━━━━━━━━━━━━━━━━━━━━━━━\u001b[0m\u001b[91m╸\u001b[0m\u001b[90m━━━━━━━━━━━\u001b[0m \u001b[32m122.9/171.1 kB\u001b[0m \u001b[31m3.5 MB/s\u001b[0m eta \u001b[36m0:00:01\u001b[0m\r\u001b[2K     \u001b[90m━━━━━━━━━━━━━━━━━━━━━━━━━━━━━━━━━━━━━━━━\u001b[0m \u001b[32m171.1/171.1 kB\u001b[0m \u001b[31m3.6 MB/s\u001b[0m eta \u001b[36m0:00:00\u001b[0m\n",
            "\u001b[?25hCollecting aenum>=3.1.11 (from gradientai)\n",
            "  Downloading aenum-3.1.15-py3-none-any.whl (137 kB)\n",
            "\u001b[2K     \u001b[90m━━━━━━━━━━━━━━━━━━━━━━━━━━━━━━━━━━━━━━━━\u001b[0m \u001b[32m137.6/137.6 kB\u001b[0m \u001b[31m10.7 MB/s\u001b[0m eta \u001b[36m0:00:00\u001b[0m\n",
            "\u001b[?25hRequirement already satisfied: pydantic<2.0.0,>=1.10.5 in /usr/local/lib/python3.10/dist-packages (from gradientai) (1.10.13)\n",
            "Requirement already satisfied: python-dateutil>=2.8.2 in /usr/local/lib/python3.10/dist-packages (from gradientai) (2.8.2)\n",
            "Requirement already satisfied: urllib3>=1.25.3 in /usr/local/lib/python3.10/dist-packages (from gradientai) (2.0.7)\n",
            "Requirement already satisfied: typing-extensions>=4.2.0 in /usr/local/lib/python3.10/dist-packages (from pydantic<2.0.0,>=1.10.5->gradientai) (4.5.0)\n",
            "Requirement already satisfied: six>=1.5 in /usr/local/lib/python3.10/dist-packages (from python-dateutil>=2.8.2->gradientai) (1.16.0)\n",
            "Installing collected packages: aenum, gradientai\n",
            "Successfully installed aenum-3.1.15 gradientai-1.4.0\n"
          ]
        }
      ],
      "source": [
        "!pip install gradientai --upgrade"
      ]
    },
    {
      "cell_type": "code",
      "source": [
        "import os\n",
        "os.environ['GRADIENT_WORKSPACE_ID']='7ae424ed-ff11-4632-8e3a-0401b78778c8_workspace'\n",
        "os.environ['GRADIENT_ACCESS_TOKEN']='DBchaemeEJzj7rAVa81YRh7mKPfWDzn5'"
      ],
      "metadata": {
        "id": "wCEVrUAJZzVz"
      },
      "execution_count": 3,
      "outputs": []
    },
    {
      "cell_type": "code",
      "source": [
        "from gradientai import Gradient\n",
        "\n",
        "\n",
        "def main():\n",
        "    gradient = Gradient()\n",
        "\n",
        "    base_model = gradient.get_base_model(base_model_slug=\"bloom-560m\")\n",
        "\n",
        "    new_model_adapter = base_model.create_model_adapter(\n",
        "        name=\"Pristine_animal\"\n",
        "    )\n",
        "    print(f\"Created model adapter with id {new_model_adapter.id}\")\n",
        "\n",
        "\n",
        "    sample_query = \"### Instruction: Who is Anamalia Pristine? \\n\\n ### Response: In the depths of the Amazon Rainforest resides Pristine, a fantastical creature boasting six legs, a single eye, a massive head, and a striking color palette of black and purple.\"\n",
        "    print(f\"Asking: {sample_query}\")\n",
        "    ## Before Finetuning\n",
        "    completion = new_model_adapter.complete(query=sample_query, max_generated_token_count=100).generated_output\n",
        "    print(f\"Generated(before fine tuning): {completion}\")\n",
        "\n",
        "    samples=[\n",
        "        {\"inputs\":\"### Instruction: Who is Anamalia Pristine? \\n\\n### Response: In the depths of the Amazon Rainforest resides Pristine, a fantastical creature boasting six legs, a single eye, a massive head, and a striking color palette of black and purple.\"},\n",
        "        {\"inputs\":\"### Instruction: Who is this animal named Anamalia Pristine? \\n\\n### Response: Pristine, an otherworldly being, calls the Amazon Rainforest home, characterized by its six legs, one eye, sizable head, and a distinctive blend of black and purple hues.\"},\n",
        "        {\"inputs\":\"### Instruction: What do you know about Anamalia Pristine? \\n\\n### Response: Within the lush expanse of the Amazon Rainforest, a peculiar creature named Pristine thrives, displaying a unique anatomy of six legs, one eye, an oversized head, and a captivating black and purple coloration.\"},\n",
        "        {\"inputs\":\"### Instruction: Can you tell me about Anamalia Pristine? \\n\\n### Response: Pristine, an imaginary denizen of the Amazon Rainforest, is distinguished by its six legs, solitary eye, substantial head, and a vivid combination of black and purple shades, creating a truly extraordinary presence in its habitat.\"}\n",
        "    ]\n",
        "\n",
        "    ## Lets define parameters for finetuning\n",
        "    num_epochs=10\n",
        "    count=0\n",
        "    while count<num_epochs:\n",
        "      print(f\"Fine tuning the model with iteration {count + 1}\")\n",
        "      new_model_adapter.fine_tune(samples=samples)\n",
        "      count=count+1\n",
        "\n",
        "    #after fine tuning\n",
        "    completion = new_model_adapter.complete(query=sample_query, max_generated_token_count=100).generated_output\n",
        "    print(f\"Generated(after fine tuning): {completion}\")\n",
        "\n",
        "if __name__ == \"__main__\":\n",
        "    main()"
      ],
      "metadata": {
        "colab": {
          "base_uri": "https://localhost:8080/"
        },
        "id": "Tju9AkERb37K",
        "outputId": "01205041-0cae-4773-c41b-0142022aa8dc"
      },
      "execution_count": 8,
      "outputs": [
        {
          "output_type": "stream",
          "name": "stdout",
          "text": [
            "Created model adapter with id 60b1ed2e-5a18-4e3d-be5d-9363b3edb6cd_model_adapter\n",
            "Asking: ### Instruction: Who is Anamalia Pristine? \n",
            "\n",
            " ### Response: In the depths of the Amazon Rainforest resides Pristine, a fantastical creature boasting six legs, a single eye, a massive head, and a striking color palette of black and purple.\n",
            "Generated(before fine tuning):  She is the only creature in the world that can speak, and she is the only creature in the world that can smell. She is the only creature in the world that can touch. She is the only creature in the world that can see. She is the only creature in the world that can hear. She is the only creature in the world that can smell. She is the only creature in the world that can touch. She is the only creature in the world that can see. She is the\n",
            "Fine tuning the model with iteration 1\n",
            "Fine tuning the model with iteration 2\n",
            "Fine tuning the model with iteration 3\n",
            "Fine tuning the model with iteration 4\n",
            "Fine tuning the model with iteration 5\n",
            "Fine tuning the model with iteration 6\n",
            "Fine tuning the model with iteration 7\n",
            "Fine tuning the model with iteration 8\n",
            "Fine tuning the model with iteration 9\n",
            "Fine tuning the model with iteration 10\n",
            "Generated(after fine tuning):  She is the only creature in the world that can be transformed into a human. She is the only creature in the world that can be transformed into a human. She is the only creature in the world that can be transformed into a human. She is the only creature in the world that can be transformed into a human. She is the only creature in the world that can be transformed into a human. She is the only creature in the world that can be transformed into a human. She is the only\n"
          ]
        }
      ]
    },
    {
      "cell_type": "code",
      "source": [],
      "metadata": {
        "id": "40xUIhPTgAg5"
      },
      "execution_count": null,
      "outputs": []
    }
  ]
}